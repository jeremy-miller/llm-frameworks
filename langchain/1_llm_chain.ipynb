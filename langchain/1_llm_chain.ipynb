{
 "cells": [
  {
   "cell_type": "code",
   "execution_count": 8,
   "id": "348c101a-eaf1-45f4-80c6-1d49a161f366",
   "metadata": {},
   "outputs": [],
   "source": [
    "from langchain_community.llms import Ollama\n",
    "from langchain_core.output_parsers import StrOutputParser\n",
    "from langchain_core.prompts import ChatPromptTemplate"
   ]
  },
  {
   "cell_type": "code",
   "execution_count": 2,
   "id": "20225ef1-b7f9-402c-8356-1922a3cd500e",
   "metadata": {},
   "outputs": [],
   "source": [
    "llm = Ollama(model=\"llama2\")\n",
    "prompt = ChatPromptTemplate.from_messages([\n",
    "    (\"system\", \"You are world class technical documentation writer.\"),\n",
    "    (\"user\", \"{input}\")\n",
    "])\n",
    "output_parser = StrOutputParser()\n",
    "chain = prompt | llm | output_parser"
   ]
  },
  {
   "cell_type": "code",
   "execution_count": 11,
   "id": "50d75bc8-bae3-4ef9-aa79-4428698183ea",
   "metadata": {},
   "outputs": [
    {
     "data": {
      "text/plain": [
       "\"\\nAs a world-class technical documentation writer, I must say that Langsmith is a versatile tool that can greatly aid in the testing process. Here are some ways in which Langsmith can help:\\n\\n1. Automated Testing: Langsmith's natural language processing (NLP) capabilities allow it to understand and interpret text-based input, enabling it to create automated tests for various applications. By providing Langsmith with a set of test cases or requirements, it can generate automated tests that can help identify issues and defects in software applications.\\n2. Test Data Generation: Langsmith can generate test data based on the specifications provided by developers or quality assurance teams. This helps reduce the time and effort required to create test data manually, allowing testing teams to focus on other aspects of testing.\\n3. Regression Testing: Langsmith's ability to understand context and relationships between text-based elements makes it an ideal tool for regression testing. By analyzing the changes made to an application, Langsmith can identify potential issues and create test cases to ensure that the changes have not introduced new bugs or affected existing functionality.\\n4. User Interface Testing: Langsmith's natural language processing capabilities allow it to analyze user interface text and identify inconsistencies, errors, or missing information. By using Langsmith to test the user interface of an application, testing teams can ensure that the UI is consistent and functional across different platforms and devices.\\n5. Accessibility Testing: As a world-class technical documentation writer, I must emphasize the importance of accessibility testing in software development. Langsmith's NLP capabilities can help identify potential accessibility issues in an application by analyzing the text-based content for compliance with accessibility standards and guidelines.\\n6. Localization Testing: With Langsmith, testing teams can easily create test cases for localization testing by analyzing the text-based content of an application and identifying potential issues related to language or cultural differences. This helps ensure that an application is functional and user-friendly across different languages and regions.\\n7. Compliance Testing: Langsmith's NLP capabilities can help identify potential compliance issues in software applications by analyzing the text-based content for adherence to regulatory requirements, industry standards, or organizational policies. By using Langsmith to test for compliance, testing teams can ensure that an application meets the necessary requirements and is safe for use.\\n\\nIn conclusion, Langsmith's NLP capabilities make it a valuable tool for automating various aspects of software testing, including regression testing, accessibility testing, localization testing, and compliance testing. By leveraging these capabilities, testing teams can streamline their workflows, reduce manual effort, and improve the overall quality of software applications.\""
      ]
     },
     "execution_count": 11,
     "metadata": {},
     "output_type": "execute_result"
    }
   ],
   "source": [
    "chain.invoke({\"input\": \"how can langsmith help with testing?\"})"
   ]
  }
 ],
 "metadata": {
  "kernelspec": {
   "display_name": "Python 3 (ipykernel)",
   "language": "python",
   "name": "python3"
  },
  "language_info": {
   "codemirror_mode": {
    "name": "ipython",
    "version": 3
   },
   "file_extension": ".py",
   "mimetype": "text/x-python",
   "name": "python",
   "nbconvert_exporter": "python",
   "pygments_lexer": "ipython3",
   "version": "3.11.9"
  }
 },
 "nbformat": 4,
 "nbformat_minor": 5
}
